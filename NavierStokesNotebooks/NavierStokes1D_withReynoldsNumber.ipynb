{
 "cells": [
  {
   "cell_type": "markdown",
   "metadata": {},
   "source": [
    "Solve the Navier-Stokes equation on a square domain.  That is, find $p,\\mathbf{v}:\\Omega \\rightarrow \\Re \\times \\Re^n$ such that\n",
    "\n",
    "$$\n",
    "\\begin{align*}\n",
    "\\nabla \\cdot \\mathbf{v}  &= r(x,t) \\\\\n",
    "\\frac{\\partial \\mathbf{v}}{\\partial t} + \\nabla\\cdot\\left(\\mathbf{v}\\otimes\\mathbf{v}\\right) +  \\nabla p  - \\nabla \\cdot \\left(\\frac{1}{Re}\\nabla  \\mathbf{v}\\right) &= \\mathbf{f}(x,t)\n",
    "\\end{align*}\n",
    "$$\n",
    "on \n",
    "$$\n",
    "\\Omega = [0,1]\n",
    "$$\n",
    " where $r(x,t)$ is a function of space and time only, $\\mathbf{f}(x,t)$ and the Reynolds number, $Re$, is a constant. \n",
    " \n",
    "To be complete and solvable we add in dirichlet boundary conditions on $p(x,t)$ and inflow boundary conditions on velocity $v(x,t)$,  (this means we set the diffusive bc = 0 and advective bc = None to allow for the inflow bc to happen)\n",
    "$$\n",
    "\\left.p\\right|_{\\partial\\Omega} = p(x,t)\n",
    "$$\n",
    "and for $\\partial\\Omega^{in} = \\{ x \\:|\\: v(x,t)\\cdot n < 0\\}$ we have inflow in which case we set\n",
    "$$\n",
    "\\left.v\\right|_{\\partial\\Omega^{in}} = v(x,t). \n",
    "$$\n",
    "Finally we need initial conditions\n",
    "$$\n",
    "u(x,t=0) = u_0(x), \\hspace{1cm} p(x,t=0) = p_0(x).\n",
    "$$"
   ]
  },
  {
   "cell_type": "code",
   "execution_count": null,
   "metadata": {
    "collapsed": false
   },
   "outputs": [],
   "source": [
    "from proteus.iproteus import * #pull in what we need for using proteus interactively\n",
    "Profiling.logLevel=2\n",
    "Profiling.verbose = True"
   ]
  },
  {
   "cell_type": "markdown",
   "metadata": {},
   "source": [
    "Define the PDE by defining the coefficients"
   ]
  },
  {
   "cell_type": "code",
   "execution_count": null,
   "metadata": {
    "collapsed": false
   },
   "outputs": [],
   "source": [
    "class NavierStokes1D(TransportCoefficients.TC_base):\n",
    "    \"\"\"\n",
    "    The coefficients of the Poisson equation \n",
    "    \"\"\"\n",
    "    def __init__(self,rofx,fofx,Re=1.0):\n",
    "        TransportCoefficients.TC_base.__init__(self, \n",
    "                         nc=2, #number of components\n",
    "                         variableNames=['p','v'],\n",
    "                         mass = {1:{1:'linear'}}, # du/dt\n",
    "                         advection = {0:{1:'linear'}, # \\nabla\\cdot v\n",
    "                                      1:{1:'nonlinear'}}, # \\nabla \\cdot (v\\otimes v)\n",
    "                         hamiltonian = {1:{0:'linear'}}, # grad (p)\n",
    "                         diffusion = {1:{1:{1:'constant'}}}, # - 1/Re * \\grad v\n",
    "                         potential = {1:{1:'u'}}, # define the potential for the diffusion term to be the solution itself\n",
    "                         reaction  = {0:{0:'constant'}, # r(x)\n",
    "                                      1:{1:'constant'}}) # f(x)\n",
    "        self.rofx=rofx\n",
    "        self.fofx=fofx\n",
    "        self.Re=Re\n",
    "        \n",
    "    def evaluate(self,t,c):\n",
    "        \"\"\"\n",
    "        evaluate quadrature point values held in the dictionary c\n",
    "        These are labelled according to the 'master equation.' For example,\n",
    "         \n",
    "        c[('a',0,0)] = diffusion coefficient for the 0th equation (first) with respect to the\n",
    "                       0th potential (the solution itself)\n",
    "                       The value at each quadrature point is a n_d x n_d tensor (n_d=number of space dimensions).\n",
    "                       Usually the tensor values are stored as a flat array in compressed sparse row format to save space. \n",
    "                       By default, we assume the tensor is full though.\n",
    "                       \n",
    "        c[('r',0)]   = reaction term for the 0th equation. This is where we will put the source term\n",
    "        \"\"\"\n",
    "        p = c[('u',0)]\n",
    "        v = c[('u',1)] #1D - x component of velocity\n",
    "        grad_p = c[('grad(u)',0)]\n",
    "        #equation 0  div(f) + r = 0  (proteus  notation)  div(velocity)=r(x) (our notation)\n",
    "        c[('f',0)][...,0] = v\n",
    "        c[('df',0,1)][...,0] = 1.0  # d_f^0_d_u^0\n",
    "        c[('r',0)][:]     = -self.rofx(c['x'][:],t)\n",
    "        c[('dr',0,0)][:]   = 0.0\n",
    "        #equation 1   u_t + div (u^2) + grad(p) + div(-1/Re grad(v)) + f = 0\n",
    "        c[('m',1)][:] = v  # d/dt ( 1.0 * v) = d/dt (m_1)\n",
    "        c[('dm',1,1)][:] = 1.0  # d_m^1_d_u^1\n",
    "        c[('f',1)][...,0] = v*v # div ( v\\otimes v)\n",
    "        c[('df',1,1)][...,0] = 2*v # d_f^1_d_u^1\n",
    "        c[('H',1)][:] = grad_p[...,0] #grad(p)\n",
    "        c[('dH',1,0)][...,0] = 1.0 # 1\n",
    "        c[('r',1)][:]     = -self.fofx(c['x'][:],t)\n",
    "        c[('dr',1,1)][:]  = 0.0#0\n",
    "        c[('a',1,1)][...,0] = 1.0/self.Re # -1/Re * \\grad v\n",
    "        c[('da',1,1,1)][...,0] = 0.0 # -d_(1/Re)\n",
    "\n",
    "\n"
   ]
  },
  {
   "cell_type": "markdown",
   "metadata": {},
   "source": [
    "Setup the problem to have a solution\n",
    "\n",
    "$$\n",
    "p(x,t) = 1 + \\sin(2\\pi (x-t))\n",
    "$$\n",
    "\n",
    "and\n",
    "\n",
    "$$\n",
    "v(x,t) = \\sin(2\\pi(x-t))\\cos(2\\pi(x-t))\n",
    "$$\n",
    "\n",
    "thus\n",
    "\n",
    "$$\n",
    "r(x,t) = \\nabla\\cdot v = 2\\pi\\cos(4\\pi(x-t))\n",
    "$$\n",
    "and\n",
    "\n",
    "$$\n",
    "\\begin{split}\n",
    "f(x,t) = -2\\pi\\cos(4\\pi(x-t)) &+ 4\\pi\\sin(2\\pi(x-t))\\cos^3(2\\pi(x-t)) - 4\\pi\\sin^{3}(2\\pi(x-t))\\cos(2\\pi(x-t))\\\\& + 2\\pi\\cos(2\\pi(x-t)) + \\frac{8\\pi^2}{Re}\\sin(4\\pi(x-t))\n",
    "\\end{split}\n",
    "$$\n",
    "\n",
    "Note that we are not divergence free here in 1D since that would require constant velocity.  The momentum equation must be written in the form  $\\nabla\\cdot(v\\otimes v)$  instead of $v\\cdot\\nabla v$ since the second form utilizes the fact that $v$ is divergence free."
   ]
  },
  {
   "cell_type": "markdown",
   "metadata": {},
   "source": [
    "Define the python functions for evaluating the terms. Note that the x array for the quadrature points will be a\n",
    "\n",
    "multidimensional array. The last dimension will be 3 always though."
   ]
  },
  {
   "cell_type": "code",
   "execution_count": null,
   "metadata": {
    "collapsed": false
   },
   "outputs": [],
   "source": [
    "#use numpy for evaluations\n",
    "import numpy as np\n",
    "\n",
    "# Reynolds number\n",
    "Re = 1.0\n",
    "\n",
    "def pex0(x,t):\n",
    "    pi2=2.0*np.pi    \n",
    "    return 1.0 + np.sin(pi2*(x[...,0]-t))\n",
    "\n",
    "def vex0(x,t):\n",
    "    pi2=2.0*np.pi\n",
    "    return np.sin(pi2*(x[...,0]-t))*np.cos(pi2*(x[...,0]-t))\n",
    "\n",
    "def rofx0(x,t):\n",
    "    pi2=2.0*np.pi\n",
    "    pi4=2.0*pi2\n",
    "    return pi2*np.cos(pi4*(x[...,0]-t))\n",
    "\n",
    "# note that we must actually compute \\nabla(v\\otimes v)  instead of v\\cdot\\nabla v\n",
    "# to get the right behaviour since this is not divergence free\n",
    "def fofx0(x,t):\n",
    "    pi2=2.0*np.pi\n",
    "    pi4=2.0*pi2\n",
    "    return -pi2*np.cos(pi4*(x[...,0]-t)) + pi4*np.sin(pi2*(x[...,0]-t))*pow(np.cos(pi2*(x[...,0]-t)),3.0) \\\n",
    "           -pi4*pow(np.sin(pi2*(x[...,0]-t)),3.0)*np.cos(pi2*(x[...,0]-t)) + pi2*np.cos(pi2*(x[...,0]-t)) \\\n",
    "           + pi2*pi4/Re*np.sin(pi4*(x[...,0]-t))"
   ]
  },
  {
   "cell_type": "markdown",
   "metadata": {},
   "source": [
    "Define the physical input to the model"
   ]
  },
  {
   "cell_type": "code",
   "execution_count": null,
   "metadata": {
    "collapsed": false
   },
   "outputs": [],
   "source": [
    "#use numpy for evaluations\n",
    "import numpy as np\n",
    "physics = default_p\n",
    "physics.name = \"navier_stokes_1d\"\n",
    "physics.nd = 1; #One dimension\n",
    "#spatial domain\n",
    "physics.L=(1.0,1.0,1.0)\n",
    "\n",
    "# Integrate from t=0 to t=1\n",
    "physics.T = 1.0\n",
    "\n",
    "#the object for evaluating the coefficients   \n",
    "physics.coefficients=NavierStokes1D(rofx0,fofx0,Re)\n",
    "\n",
    "#this functions job is to return another function holding the Dirichlet boundary conditions \n",
    "# wherever they are set\n",
    "    \n",
    "eps=1.0e-8\n",
    "boundaryFlags = {'left':1,'right':2,'top':3}\n",
    "def getDBC_p(x,flag):\n",
    "    if x[0] <= 0.0+eps:\n",
    "        return lambda x,t: pex0(x,t)\n",
    "    elif x[0] >= physics.L[0]-eps:\n",
    "        return lambda x,t: pex0(x,t)\n",
    "    else:\n",
    "        return None\n",
    "    \n",
    "def getDBC_v(x,flag):\n",
    "    if x[0] <= 0.0+eps:\n",
    "        return lambda x,t: vex0(x,t)\n",
    "    elif x[0] >= physics.L[0]-eps:\n",
    "        return lambda x,t: vex0(x,t)\n",
    "    else:\n",
    "        return None\n",
    "    \n",
    "def getNone(x,flag):\n",
    "    return None\n",
    "\n",
    "def getZeroFlux(x,flag):\n",
    "    if x[0] <= 0.0+eps:\n",
    "        return lambda x,t: 0.0\n",
    "    elif x[0] >= physics.L[0]-eps:\n",
    "        return lambda x,t: 0.0\n",
    "    else:\n",
    "        return None\n",
    "    \n",
    "class getIBC_p:\n",
    "    def __init__(self):\n",
    "        self.pex0=pex0\n",
    "        pass\n",
    "    def uOfXT(self,x,t):\n",
    "        return self.pex0(x,t)\n",
    "\n",
    "    \n",
    "class getIBC_v:\n",
    "    def __init__(self):\n",
    "        self.vex0=vex0\n",
    "        pass\n",
    "    def uOfXT(self,x,t):\n",
    "        return self.vex0(x,t)\n",
    "    \n",
    "physics.initialConditions = {0:getIBC_p(),\n",
    "                             1:getIBC_v()}\n",
    "\n",
    "physics.dirichletConditions = {0:getDBC_p,#pressure Dirichlet\n",
    "                               1:getDBC_v}\n",
    "\n",
    "physics.advectiveFluxBoundaryConditions = {0:getNone}#dummy condition for non-existent  advective flux\n",
    "#physics.advectiveFluxBoundaryConditions = {1:getZeroFlux}#dummy condition for non-existent  advective flux\n",
    "\n",
    "#there are no diffusion terms in this model, but I had to \n",
    "physics.diffusiveFluxBoundaryConditions = {1:{1:getZeroFlux}}#viscous flux\n",
    "physics.fluxBoundaryConditions = {0:'mixedFlow',1:'outFlow'}\n",
    "#physics.fluxBoundaryConditions = {0:'setFlow',1:'setFlow'}"
   ]
  },
  {
   "cell_type": "markdown",
   "metadata": {},
   "source": [
    "Define the numerics input for the problem"
   ]
  },
  {
   "cell_type": "code",
   "execution_count": null,
   "metadata": {
    "collapsed": false
   },
   "outputs": [],
   "source": [
    "numerics=default_n\n",
    "#piecewise linears\n",
    "numerics.femSpaces = {0:FemTools.C0_AffineLinearOnSimplexWithNodalBasis,#pressure space\n",
    "                      1:FemTools.C0_AffineQuadraticOnSimplexWithNodalBasis}#velocity space\n",
    "\n",
    "numerics.timeIntegration = TimeIntegration.BackwardEuler\n",
    "numerics.DT = 0.01\n",
    "numerics.tnList = list(np.arange(0.0,physics.T+numerics.DT,numerics.DT))\n",
    "# numerics.nDTout=10\n",
    "\n",
    "#Quadrature rules for elements and element  boundaries\n",
    "numerics.elementQuadrature = Quadrature.SimplexGaussQuadrature(physics.nd,5)\n",
    "numerics.elementBoundaryQuadrature = Quadrature.SimplexGaussQuadrature(physics.nd-1,5)\n",
    "#number of nodes in the x and y direction\n",
    "numerics.nn = 101\n",
    "#numerics.nny= 41\n",
    "#matrix type\n",
    "numerics.numericalFluxType = NumericalFlux.StrongDirichletFactory(physics.fluxBoundaryConditions)\n",
    "#numerics.numericalFluxType = MixedDarcy_exterior\n",
    "#numerics.numericalFluxType = NumericalFlux.Advection_DiagonalUpwind_Diffusion_IIPG_exterior\n",
    "#numerics.numericalFluxType = NumericalFlux.Advection_Diagonal_average\n",
    "numerics.matrix = LinearAlgebraTools.SparseMatrix\n",
    "#use petsc solvers wrapped by petsc4py\n",
    "#numerics.multilevelLinearSolver = LinearSolvers.KSP_petsc4py\n",
    "#numerics.levelLinearSolver = LinearSolvers.KSP_petsc4py\n",
    "#using petsc4py requires weak boundary condition enforcement\n",
    "#can also use our internal wrapper for SuperLU\n",
    "numerics.multilevelLinearSolver = LinearSolvers.LU\n",
    "numerics.levelLinearSolver = LinearSolvers.LU\n",
    "\n",
    "numerics.multilevelNonlinearSolver = NonlinearSolvers.Newton\n",
    "numerics.levelNonlinearSolver = NonlinearSolvers.Newton\n",
    "\n",
    "#linear solve rtolerance\n",
    "\n",
    "numerics.linTolFac = 0.001\n",
    "numerics.tolFac = 0.0\n",
    "\n",
    "numerics.l_atol_res = 1.0e-5\n",
    "numerics.nl_atol_res = 1.0e-5\n",
    "numerics.periodicDirichletConditions=None\n",
    "#\n",
    "# split operator options (trivial since we're not splitting)\n",
    "#\n",
    "so = default_so\n",
    "so.name = physics.name\n",
    "so.sList=[default_s]\n",
    "so.tnList = numerics.tnList"
   ]
  },
  {
   "cell_type": "markdown",
   "metadata": {},
   "source": [
    "Construct a NumericalSolution object and solve the problem"
   ]
  },
  {
   "cell_type": "code",
   "execution_count": null,
   "metadata": {
    "collapsed": false
   },
   "outputs": [],
   "source": [
    "ns = NumericalSolution.NS_base(so,[physics],[numerics],so.sList,opts)\n",
    "ns.calculateSolution('run1')\n",
    "\n",
    "\n",
    "# begin error analysis and plotting of solution\n",
    "\n",
    "#arrays for using matplotlib's unstructured plotting interface\n",
    "x = ns.modelList[0].levelModelList[-1].mesh.nodeArray[:,0]\n",
    "#y = ns.modelList[0].levelModelList[-1].mesh.nodeArray[:,1]\n",
    "#triangles = ns.modelList[0].levelModelList[-1].mesh.elementNodesArray\n",
    "\n",
    "# grab the last time step solution and save the components as pT and vT\n",
    "pT = ns.modelList[0].levelModelList[-1].u[0].dof\n",
    "vT = ns.modelList[0].levelModelList[-1].u[1].dof\n",
    "\n"
   ]
  },
  {
   "cell_type": "markdown",
   "metadata": {},
   "source": [
    "Plot the solution with matplotlib. Only works for $C^0 P^1$ right now"
   ]
  },
  {
   "cell_type": "code",
   "execution_count": null,
   "metadata": {
    "collapsed": false,
    "scrolled": true
   },
   "outputs": [],
   "source": [
    "%pylab inline"
   ]
  },
  {
   "cell_type": "code",
   "execution_count": null,
   "metadata": {
    "collapsed": false,
    "scrolled": true
   },
   "outputs": [],
   "source": [
    "# plot computed solutions\n",
    "\n",
    "import matplotlib.pyplot as plt\n",
    "fig, (ax1,ax2) = plt.subplots(2,1)\n",
    "fig.tight_layout() # spread out the plots so that they don't overlap\n",
    "ax1.plot(x,pT)\n",
    "ax1.set_xlabel('x')\n",
    "ax1.set_ylabel('p(T)')\n",
    "useTH=True\n",
    "if not useTH:\n",
    "    ax2.plot(x,vT[:numerics.nn])\n",
    "    ax2.set_xlabel('x')\n",
    "    ax2.set_ylabel('v(T)')\n",
    "else:\n",
    "    xm = np.array(0.5*(x[:-1]+x[1:]))\n",
    "    xq=[];\n",
    "    vq=[];\n",
    "    pq=[];\n",
    "    for i in range(numerics.nn-1):\n",
    "        xq.append(x[i])\n",
    "        vq.append(vT[i])\n",
    "#    uq.append(u[i])\n",
    "        xq.append(xm[i])\n",
    "        vq.append(vT[numerics.nn+i])\n",
    "#    uq.append(u[numerics.nn+i])\n",
    "    xq.append(x[-1])\n",
    "    vq.append(vT[-1])\n",
    "#uq.append(u[-1])\n",
    "#xq = np.concatenate([x,xm])\n",
    "#xq.append(x1[-1])\n",
    "#ax1.plot(xq,uq)\n",
    "    ax2.plot(xq,vq)\n",
    "    ax2.set_xlabel('x')\n",
    "    ax2.set_ylabel('v(T)')"
   ]
  },
  {
   "cell_type": "code",
   "execution_count": null,
   "metadata": {
    "collapsed": false
   },
   "outputs": [],
   "source": [
    "# extract exact solutions\n",
    "import numpy as np\n",
    "pex_vals_at_T = pex0(ns.modelList[0].levelModelList[-1].mesh.nodeArray,physics.T)\n",
    "vex_vals_at_T = vex0(ns.modelList[0].levelModelList[-1].mesh.nodeArray,physics.T)\n",
    "rex_vals_at_T = rofx0(ns.modelList[0].levelModelList[-1].mesh.nodeArray,physics.T)"
   ]
  },
  {
   "cell_type": "markdown",
   "metadata": {},
   "source": [
    "Compare to the exact solution, evaluated at the degrees of freedom. Again, only works for $C^0 P^1$ elements"
   ]
  },
  {
   "cell_type": "code",
   "execution_count": null,
   "metadata": {
    "collapsed": false
   },
   "outputs": [],
   "source": [
    "fig, (ax1,ax2,ax3) = plt.subplots(3,1)\n",
    "fig.tight_layout() # spread out the plots so that they don't overlap\n",
    "ax1.plot(x,pex_vals_at_T)\n",
    "ax1.set_xlabel('x')\n",
    "ax1.set_ylabel('p(T) exact') \n",
    "ax2.plot(x,vex_vals_at_T)\n",
    "ax2.set_xlabel('x')\n",
    "ax2.set_ylabel('v(T) exact')\n",
    "ax3.plot(x,rex_vals_at_T)\n",
    "ax3.set_xlabel('x')\n",
    "ax3.set_ylabel('r(T) exact')"
   ]
  },
  {
   "cell_type": "code",
   "execution_count": null,
   "metadata": {
    "collapsed": false,
    "scrolled": true
   },
   "outputs": [],
   "source": [
    "print x.shape,xm.shape\n",
    "\n",
    "fig, (ax1,ax2) = plt.subplots(2,1)\n",
    "fig.tight_layout() # spread out the plots so that they don't overlap\n",
    "err_p = pT-pex_vals_at_T\n",
    "print \"maximal error of pressure on gridpoints             = %s\" % max(abs(err_p))\n",
    "ax1.plot(x,abs(err_p))\n",
    "ax1.set_xlabel('x')\n",
    "ax1.set_ylabel('|p-p_{true}| at time T')\n",
    "err_p *= err_p\n",
    "err_p *= physics.L[0]*physics.L[1]/(numerics.nn)\n",
    "L2approx_p = np.sqrt(err_p.sum())\n",
    "\n",
    "print \"Trapezoidal rule approx to \\ell_2 error of pressure = %s\\n\" % L2approx_p\n",
    "\n",
    "\n",
    "\n",
    "vtrue = 0.0*vT\n",
    "for i,val in enumerate(np.concatenate((x,xm))):\n",
    "    vtrue[i] = vex0(np.array([val]),physics.T)\n",
    "err_v = vT-vtrue\n",
    "print \"maximal error of velocity on gridpoints                        is %s\" % max(abs(err_v))\n",
    "ax2.plot(xq,err_v)\n",
    "ax2.set_xlabel('x')\n",
    "ax2.set_ylabel('|v-v_{true}| at time T')\n",
    "err_v *= err_v\n",
    "err_v *= physics.L[0]*physics.L[1]/(numerics.nn)\n",
    "L2approx_v = np.sqrt(err_v.sum())\n",
    "print \"Trapezoidal rule approx to \\ell_2 error of velocity for nn=%s is %s\" % (numerics.nn, L2approx_v)\n",
    "\n",
    "#print \"Trapezoidal rule approx at time T=%s for error at dofs for nn=%s is p_l2=%s and v_l2=%s \" % (physics.T,numerics.nn,L2approx_p,L2approx_v)"
   ]
  }
 ],
 "metadata": {
  "kernelspec": {
   "display_name": "Python 2",
   "language": "python",
   "name": "python2"
  },
  "language_info": {
   "codemirror_mode": {
    "name": "ipython",
    "version": 2
   },
   "file_extension": ".py",
   "mimetype": "text/x-python",
   "name": "python",
   "nbconvert_exporter": "python",
   "pygments_lexer": "ipython2",
   "version": "2.7.9"
  }
 },
 "nbformat": 4,
 "nbformat_minor": 0
}
