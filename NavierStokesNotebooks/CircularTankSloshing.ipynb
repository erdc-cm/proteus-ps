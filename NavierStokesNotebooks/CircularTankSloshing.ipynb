{
 "cells": [
  {
   "cell_type": "code",
   "execution_count": 1,
   "metadata": {
    "collapsed": true
   },
   "outputs": [],
   "source": [
    "from proteus.iproteus import * \n",
    "from proteus import default_n, default_s, default_so\n",
    "Profiling.logLevel=5\n",
    "Profiling.verbose=False"
   ]
  },
  {
   "cell_type": "code",
   "execution_count": 2,
   "metadata": {
    "collapsed": false
   },
   "outputs": [
    {
     "data": {
      "text/markdown": [
       "```Python\n",
       "from proteus.default_so import *\n",
       "from proteus import Context\n",
       "import wavesloshing_laminar_unstruct_medium\n",
       "Context.setFromModule(wavesloshing_laminar_unstruct_medium)\n",
       "ctx = Context.get()\n",
       "\n",
       "if ctx.useOnlyVF:\n",
       "    pnList = [(\"twp_navier_stokes_p\", \"twp_navier_stokes_n\"),\n",
       "              (\"vof_p\",               \"vof_n\")]\n",
       "else:\n",
       "    pnList = [(\"twp_navier_stokes_p\", \"twp_navier_stokes_n\"),\n",
       "              (\"vof_p\",               \"vof_n\"),\n",
       "              (\"ls_p\",                \"ls_n\"),\n",
       "              (\"redist_p\",            \"redist_n\"),\n",
       "              (\"ls_consrv_p\",         \"ls_consrv_n\")]\n",
       "\n",
       "\n",
       "if ctx.useRANS > 0:\n",
       "    pnList.append((\"kappa_p\",\n",
       "                   \"kappa_n\"))\n",
       "    pnList.append((\"dissipation_p\",\n",
       "                   \"dissipation_n\"))\n",
       "\n",
       "name = \"wavesloshing_laminar_unstruct_medium_p\"\n",
       "\n",
       "if ctx.timeDiscretization == 'flcbdf':\n",
       "    systemStepControllerType = Sequential_MinFLCBDFModelStep\n",
       "    systemStepControllerType = Sequential_MinAdaptiveModelStep\n",
       "else:\n",
       "    systemStepControllerType = Sequential_MinAdaptiveModelStep\n",
       "\n",
       "needEBQ_GLOBAL = False\n",
       "needEBQ = False\n",
       "\n",
       "tnList = [0.0, ctx.dt_init] + [i*ctx.dt_fixed for i in range(1,ctx.nDTout+1)]\n",
       "\n",
       "```\n"
      ],
      "text/plain": [
       "<IPython.core.display.Markdown object>"
      ]
     },
     "metadata": {},
     "output_type": "display_data"
    }
   ],
   "source": [
    "import circular_tank.wavesloshing_laminar_unstruct_medium_so as so\n",
    "display_src(so)"
   ]
  },
  {
   "cell_type": "code",
   "execution_count": 3,
   "metadata": {
    "collapsed": false
   },
   "outputs": [
    {
     "name": "stdout",
     "output_type": "stream",
     "text": [
      "<proteus.Domain.PlanarStraightLineGraphDomain instance at 0x114783d40>\n"
     ]
    }
   ],
   "source": [
    "from proteus  import Context\n",
    "ctx = Context.get()\n",
    "print ctx.domain"
   ]
  },
  {
   "cell_type": "code",
   "execution_count": 4,
   "metadata": {
    "collapsed": false
   },
   "outputs": [
    {
     "name": "stderr",
     "output_type": "stream",
     "text": [
      ":0: FutureWarning: IPython widgets are experimental and may change in the future.\n"
     ]
    }
   ],
   "source": [
    "%matplotlib inline\n",
    "from IPython.html.widgets import interactive, fixed, FloatSlider\n",
    "def buildCircularTank(he=2.0/20.0, domain=ctx.domain):\n",
    "    from matplotlib import pyplot, collections\n",
    "    #\n",
    "    #set up a cicular domain\n",
    "    #\n",
    "    from math import pi, ceil, cos, sin\n",
    "    nvertices = nsegments = int(ceil(2.0*pi/he))\n",
    "    dtheta = 2.0*pi/float(nsegments)\n",
    "    vertices= []\n",
    "    vertexFlags = []\n",
    "    segments = []\n",
    "    segmentFlags = []\n",
    "    for i in range(nsegments):\n",
    "        theta = pi/2.0 - i*dtheta\n",
    "        vertices.append([0.5+cos(theta),0.5+sin(theta)])\n",
    "        if i in [nvertices-1,0,1]:\n",
    "            vertexFlags.append(domain.boundaryTags['top'])\n",
    "        else:\n",
    "            vertexFlags.append(boundaryTags['bottom'])\n",
    "        segments.append([i,(i+1)%nvertices])\n",
    "        if i in [nsegments-1,0]:\n",
    "            segmentFlags.append(domain.boundaryTags['top'])\n",
    "        else:\n",
    "            segmentFlags.append(domain.boundaryTags['bottom'])\n",
    "        boundaryTags = domain.boundaryTags\n",
    "    domain = Domain.PlanarStraightLineGraphDomain(vertices=vertices,\n",
    "                                                  vertexFlags=vertexFlags,\n",
    "                                                  segments=segments,\n",
    "                                                  segmentFlags=segmentFlags)\n",
    "    #go ahead and add a boundary tags member \n",
    "    domain.boundaryTags = boundaryTags\n",
    "    domain.writePoly(\"mesh\")\n",
    "    #\n",
    "    #finished setting up circular domain\n",
    "    #\n",
    "    plot=True\n",
    "    if  plot:\n",
    "        lines = []\n",
    "        cmap = pyplot.get_cmap(\"hsv\")\n",
    "        c = []\n",
    "        sF_max = float(max(domain.segmentFlags))\n",
    "        for s,sF in zip(domain.segments,domain.segmentFlags):\n",
    "            lines.append([domain.vertices[s[0]],domain.vertices[s[1]]])\n",
    "            c.append(cmap(float(sF/sF_max)))\n",
    "        lc = collections.LineCollection(lines,colors=c,linewidths=3)\n",
    "        fig, ax = pyplot.subplots()\n",
    "        ax.add_collection(lc)\n",
    "        ax.margins(0.1)\n",
    "        ax.set_aspect('equal')\n",
    "    return domain\n",
    "domain_widget = interactive(buildCircularTank,\n",
    "                                he=FloatSlider(min=0.0025, value=1.0/10.0, max=0.25, step=1.0/20),\n",
    "                                domain=fixed(ctx.domain))"
   ]
  },
  {
   "cell_type": "code",
   "execution_count": 5,
   "metadata": {
    "collapsed": false
   },
   "outputs": [
    {
     "data": {
      "image/png": "[encoded data removed]",
      "text/plain": [
       "<matplotlib.figure.Figure at 0x1159e3610>"
      ]
     },
     "metadata": {},
     "output_type": "display_data"
    }
   ],
   "source": [
    "display(domain_widget)"
   ]
  },
  {
   "cell_type": "code",
   "execution_count": 6,
   "metadata": {
    "collapsed": false
   },
   "outputs": [],
   "source": [
    "for k in ctx.domain.__dict__.keys():\n",
    "    ctx.domain.__dict__[k] = domain_widget.result.__dict__[k]"
   ]
  },
  {
   "cell_type": "code",
   "execution_count": 7,
   "metadata": {
    "collapsed": false
   },
   "outputs": [],
   "source": [
    "from proteus import Comm\n",
    "from petsc4py import PETSc\n",
    "import os\n",
    "from importlib import import_module\n",
    "\n",
    "pList=[]\n",
    "nList=[]\n",
    "so.sList=[]\n",
    "OptDB = PETSc.Options()\n",
    "for (p,n) in so.pnList:\n",
    "    so.sList.append(default_s)\n",
    "    pList.append(import_module('circular_tank.'+p))\n",
    "    nList.append(import_module('circular_tank.'+n))\n",
    "    pList[-1].name = p\n",
    "    #nList[-1].multilevelLinearSolver = default_n.KSP_petsc4py\n",
    "    #nList[-1].levelLinearSolver = default_n.KSP_petsc4py\n",
    "    #OptDB.setValue(nList[-1].linear_solver_options_prefix+\"ksp_type\", \"preonly\")\n",
    "    #OptDB.setValue(nList[-1].linear_solver_options_prefix+\"pc_type\", \"lu\")\n",
    "    #OptDB.setValue(nList[-1].linear_solver_options_prefix+\"pc_factor_mat_solver_package\",\"superlu_dist\")\n",
    "opts.save_dof = True\n",
    "opts.dataDir='.'\n",
    "opts.probDir='.'\n",
    "Profiling.logLevel=3\n",
    "Profiling.verbose=False"
   ]
  },
  {
   "cell_type": "code",
   "execution_count": 8,
   "metadata": {
    "collapsed": false
   },
   "outputs": [
    {
     "name": "stdout",
     "output_type": "stream",
     "text": [
      "TriangleBaseMesh nbase=1 baseFlags= VApq30Dena0.00052029 \n"
     ]
    }
   ],
   "source": [
    "ns = NumericalSolution.NS_base(so, pList, nList, so.sList, opts)"
   ]
  },
  {
   "cell_type": "code",
   "execution_count": 9,
   "metadata": {
    "collapsed": false
   },
   "outputs": [],
   "source": [
    "from threading import Thread\n",
    "# Create a thread wrapper for the simulation.  The target must be an argument-less\n",
    "# function so we wrap the call to `calculateSolution` in a simple lambda:\n",
    "simulation_thread = Thread(target = lambda : ns.calculateSolution('circular_tank'))"
   ]
  },
  {
   "cell_type": "code",
   "execution_count": 10,
   "metadata": {
    "collapsed": true
   },
   "outputs": [],
   "source": [
    "from IPython.core.display import clear_output\n",
    "\n",
    "def plot_current_results(in_place=True):\n",
    "    from matplotlib import  pyplot as plt\n",
    "    \"\"\"Makes a blocking call to retrieve remote data and displays the solution mesh\n",
    "    as a contour plot.\n",
    "    \n",
    "    Parameters\n",
    "    ----------\n",
    "    in_place : bool\n",
    "        By default it calls clear_output so that new plots replace old ones.  Set\n",
    "        to False to allow keeping of all previous outputs.\n",
    "    \"\"\"\n",
    "    model = ns.modelList[1].levelModelList[-1]\n",
    "    nodes = model.mesh.nodeArray\n",
    "    triangles = model.mesh.elementNodesArray\n",
    "    x = nodes[:,0]\n",
    "    y = nodes[:,1]\n",
    "    u = model.u[0].dof_last\n",
    "    fig, ax = plt.subplots()\n",
    "    ax.tricontourf(x, y, triangles, u)\n",
    "    if in_place:\n",
    "        clear_output()\n",
    "    plt.axis('equal')\n",
    "    display(fig)\n",
    "    return fig\n",
    "\n",
    "def monitor_simulation(refresh=5.0, plots_in_place=True):\n",
    "    \"\"\"Monitor the simulation progress and call plotting routine.\n",
    "\n",
    "    Supress KeyboardInterrupt exception if interrupted, ensure that the last \n",
    "    figure is always displayed and provide basic timing and simulation status.\n",
    "\n",
    "    Parameters\n",
    "    ----------\n",
    "    refresh : float\n",
    "      Refresh interval between calls to retrieve and plot data.  The default\n",
    "      is 5s, adjust depending on the desired refresh rate, but be aware that \n",
    "      very short intervals will start having a significant impact.\n",
    "\n",
    "    plots_in_place : bool\n",
    "       If true, every new figure replaces the last one, producing a (slow)\n",
    "       animation effect in the notebook.  If false, all frames are plotted\n",
    "       in sequence and appended in the output area.\n",
    "    \"\"\"\n",
    "    import datetime as dt, time\n",
    "    from matplotlib  import pyplot  as plt\n",
    "    if not simulation_thread.is_alive():\n",
    "        fig = plot_current_results(in_place=plots_in_place)\n",
    "        fig.close('all')\n",
    "        print 'Simulation has already finished, no monitoring to do.'\n",
    "        return\n",
    "    \n",
    "    t0 = dt.datetime.now()\n",
    "    fig = None\n",
    "    try:\n",
    "        while simulation_thread.is_alive():\n",
    "            fig = plot_current_results(in_place=plots_in_place)\n",
    "            plt.close('all') # prevent re-plot of old figures\n",
    "            time.sleep(refresh) # so we don't hammer the server too fast\n",
    "    except (KeyboardInterrupt):#, error.TimeoutError):\n",
    "        msg = 'Monitoring interrupted, simulation is ongoing!'\n",
    "    else:\n",
    "        msg = 'Simulation completed!'\n",
    "    tmon = dt.datetime.now() - t0\n",
    "    if plots_in_place and fig is not None:\n",
    "        clear_output()\n",
    "        display(fig)\n",
    "    print msg\n",
    "    print 'Monitored for: %s.' % tmon"
   ]
  },
  {
   "cell_type": "code",
   "execution_count": 11,
   "metadata": {
    "collapsed": false
   },
   "outputs": [],
   "source": [
    "simulation_thread.start()"
   ]
  },
  {
   "cell_type": "code",
   "execution_count": 13,
   "metadata": {
    "collapsed": false
   },
   "outputs": [
    {
     "data": {
      "image/png": "[encoded data removed]",
      "text/plain": [
       "<matplotlib.figure.Figure at 0x12aef90d0>"
      ]
     },
     "metadata": {},
     "output_type": "display_data"
    },
    {
     "name": "stdout",
     "output_type": "stream",
     "text": [
      "Monitoring interrupted, simulation is ongoing!\n",
      "Monitored for: 0:02:27.267843.\n"
     ]
    }
   ],
   "source": [
    "monitor_simulation()"
   ]
  },
  {
   "cell_type": "code",
   "execution_count": null,
   "metadata": {
    "collapsed": true
   },
   "outputs": [],
   "source": []
  }
 ],
 "metadata": {
  "kernelspec": {
   "display_name": "Python 2",
   "language": "python",
   "name": "python2"
  },
  "language_info": {
   "codemirror_mode": {
    "name": "ipython",
    "version": 2
   },
   "file_extension": ".py",
   "mimetype": "text/x-python",
   "name": "python",
   "nbconvert_exporter": "python",
   "pygments_lexer": "ipython2",
   "version": "2.7.9"
  }
 },
 "nbformat": 4,
 "nbformat_minor": 0
}
