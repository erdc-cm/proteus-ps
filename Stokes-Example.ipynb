{
 "cells": [
  {
   "cell_type": "markdown",
   "metadata": {},
   "source": [
    "Solve the Stokes equation on a square domain.  That is, find $p,\\mathbf{v}:\\Omega \\rightarrow \\Re \\times \\Re^n$ such that\n",
    "$$\n",
    "\\nabla \\cdot \\mathbf{v}  = r(x) \n",
    "$$\n",
    "$$\n",
    "\\mathbf{v} + A \\nabla p + \\nabla \\cdot \\left(-\\epsilon \\nabla  \\mathbf{v}\\right) = 0\n",
    "$$\n",
    "on \n",
    "$$\n",
    "\\Omega = [0,1]\n",
    "$$\n",
    "where $A$ is constant, and $r(x)$ is a function of space only."
   ]
  },
  {
   "cell_type": "code",
   "execution_count": 14,
   "metadata": {
    "collapsed": false
   },
   "outputs": [],
   "source": [
    "from proteus.iproteus import * #pull in what we need for using proteus interactively\n",
    "Profiling.logLevel=3\n",
    "Profiling.verbose = True"
   ]
  },
  {
   "cell_type": "markdown",
   "metadata": {},
   "source": [
    "Define the PDE by defining the coefficients"
   ]
  },
  {
   "cell_type": "code",
   "execution_count": 15,
   "metadata": {
    "collapsed": false
   },
   "outputs": [],
   "source": [
    "class MixedPoisson(TransportCoefficients.TC_base):\n",
    "    \"\"\"\n",
    "    The coefficients of the Poisson equation \n",
    "    \"\"\"\n",
    "    def __init__(self,A,rofx,epsilon=0.001):\n",
    "        TransportCoefficients.TC_base.__init__(self, \n",
    "                         nc=2, #number of components\n",
    "                         variableNames=['p','v'],\n",
    "                         advection = {0:{1:'linear'}},#not in equation (would be non-zero for Navier-Stokes)\n",
    "                         hamiltonian = {1:{0:'linear'}},#A grad (p)\n",
    "                         diffusion = {1:{1:{1:'constant'}}},#the brinkman term - \\epsilon \\grad v\n",
    "                         potential = {1:{1:'u'}}, #define the potential for the diffusion term to be the solution itself\n",
    "                         reaction  = {0:{0:'constant'},\n",
    "                                      1:{1:'linear'}})\n",
    "        self.A=A\n",
    "        self.rofx=rofx\n",
    "        self.epsilon=epsilon\n",
    "        \n",
    "    def evaluate(self,t,c):\n",
    "        \"\"\"\n",
    "        evaluate quadrature point values held in the dictionary c\n",
    "        These are labelled according to the 'master equation.' For example,\n",
    "         \n",
    "        c[('a',0,0)] = diffusion coefficient for the 0th equation (first) with respect to the\n",
    "                       0th potential (the solution itself)\n",
    "                       The value at each quadrature point is a n_d x n_d tensor (n_d=number of space dimensions).\n",
    "                       Usually the tensor values are stored as a flat array in compressed sparse row format to save space. \n",
    "                       By default, we assume the tensor is full though.\n",
    "                       \n",
    "        c[('r',0)]   = reaction term for the 0th equation. This is where we will put the source term\n",
    "        \"\"\"\n",
    "        p = c[('u',0)]\n",
    "        v = c[('u',1)]#1D - x component of velocity\n",
    "        grad_p = c[('grad(u)',0)]\n",
    "        #equation 0  div(f) + r = 0  (proteus  notation)  div(velocity)=r(x) (our notation)\n",
    "        c[('f',0)][...,0] = v\n",
    "        c[('df',0,1)][...,0] = 1.0  # d_f^0_d_u^0\n",
    "        c[('r',0)][:]     = -self.rofx(c['x'][:])\n",
    "        c[('dr',0,0)][:]   = 0.0\n",
    "        #equation 1   A grad(p) + v + div(-epsilon grad(v)) = 0\n",
    "        c[('H',1)][:] = self.A[0][0]*grad_p[...,0] #A grad(p)\n",
    "        c[('dH',1,0)][...,0] = self.A[0][0] #A\n",
    "        c[('r',1)][:]     = v\n",
    "        c[('dr',1,1)][:]  = 1.0#1\n",
    "        c[('a',1,1)][...,0] = self.epsilon# -epsilon \\grad v\n",
    "        c[('da',1,1,1)][...,0] = 0.0# -d_epsilon\n",
    "\n",
    "\n"
   ]
  },
  {
   "cell_type": "markdown",
   "metadata": {},
   "source": [
    "Setup the problem to have a solution\n",
    "\n",
    "$$\n",
    "p(x_0) = 1 + \\sin(2\\pi x_0)\n",
    "$$\n",
    "\n",
    "or\n",
    "\n",
    "$$\n",
    "r(x_0) = 8 \\pi^2 \\sin(2\\pi x_0)\n",
    "$$\n",
    "\n",
    "For fun, we can take advantage of sage's symbolic calculus to calculate the correct expression for $r$."
   ]
  },
  {
   "cell_type": "markdown",
   "metadata": {},
   "source": [
    "Define the python functions for evaluating the terms. Note that the x array for the quadrature points will be a\n",
    "\n",
    "multidimensional array. The last dimension will be 3 always though."
   ]
  },
  {
   "cell_type": "code",
   "execution_count": 16,
   "metadata": {
    "collapsed": false
   },
   "outputs": [],
   "source": [
    "#use numpy for evaluations\n",
    "import numpy as np\n",
    "a0 = 2.0\n",
    "def pex0(x):\n",
    "    pi2=2.0*np.pi    \n",
    "    return 1.0 + np.sin(pi2*x[...,0])\n",
    "\n",
    "#note, this is not exact for Stokes\n",
    "def vex0(x):\n",
    "    pi2=2.0*np.pi\n",
    "    return -a0*pi2*np.cos(pi2*x[...,0])\n",
    "\n",
    "def rofx0(x):\n",
    "    pi2=2.0*np.pi\n",
    "    return a0*pi2*pi2*np.sin(pi2*x[...,0])"
   ]
  },
  {
   "cell_type": "markdown",
   "metadata": {},
   "source": [
    "Define the physical input to the model"
   ]
  },
  {
   "cell_type": "code",
   "execution_count": 17,
   "metadata": {
    "collapsed": false
   },
   "outputs": [],
   "source": [
    "#use numpy for evaluations\n",
    "import numpy as np\n",
    "physics = default_p\n",
    "physics.name = \"stokes_1d\"\n",
    "physics.nd = 1; #One dimension\n",
    "#spatial domain\n",
    "physics.L=(1.0,1.0,1.0)\n",
    "\n",
    "#the object for evaluating the coefficients   \n",
    "A  =[[a0]]\n",
    "physics.coefficients=MixedPoisson(A,rofx0)\n",
    "\n",
    "#this functions job is to return another function holding the Dirichlet boundary conditions \n",
    "# wherever they are set\n",
    "    \n",
    "eps=1.0e-8\n",
    "boundaryFlags = {'left':1,'right':2,'top':3}\n",
    "def getDBC_p(x,flag):\n",
    "    if x[0] <= 0.0+eps:\n",
    "        return lambda x,t: pex0(x)\n",
    "    elif x[0] >= physics.L[0]-eps:\n",
    "        return lambda x,t: pex0(x)\n",
    "    else:\n",
    "        return None\n",
    "    \n",
    "\n",
    "def getNone(x,flag):\n",
    "    return None\n",
    "\n",
    "def getZeroFlux(x,flag):\n",
    "    if x[0] <= 0.0+eps:\n",
    "        return lambda x,t: 0.0\n",
    "    elif x[0] >= physics.L[0]-eps:\n",
    "        return lambda x,t: 0.0\n",
    "    else:\n",
    "        return None\n",
    "    \n",
    "physics.dirichletConditions = {0:getDBC_p,#pressure Dirichlet\n",
    "                               1:getNone}\n",
    "\n",
    "physics.advectiveFluxBoundaryConditions = {0:getNone}#dummy condition for non-existent  advective flux\n",
    "#there are no diffusion terms in this model, but I had to \n",
    "physics.diffusiveFluxBoundaryConditions = {1:{1:getZeroFlux}}#viscous flux\n",
    "physics.fluxBoundaryConditions = {0:'mixedFlow',1:'outFlow'}"
   ]
  },
  {
   "cell_type": "markdown",
   "metadata": {},
   "source": [
    "Define the numerics input for the problem"
   ]
  },
  {
   "cell_type": "code",
   "execution_count": 18,
   "metadata": {
    "collapsed": false
   },
   "outputs": [],
   "source": [
    "numerics=default_n\n",
    "#piecewise linears\n",
    "numerics.femSpaces = {0:FemTools.C0_AffineLinearOnSimplexWithNodalBasis,#pressure space\n",
    "                      1:FemTools.C0_AffineQuadraticOnSimplexWithNodalBasis}#velocity space\n",
    "#Quadrature rules for elements and element  boundaries\n",
    "numerics.elementQuadrature = Quadrature.SimplexGaussQuadrature(physics.nd,4)\n",
    "numerics.elementBoundaryQuadrature = Quadrature.SimplexGaussQuadrature(physics.nd-1,4)\n",
    "#number of nodes in the x and y direction\n",
    "numerics.nn = 41\n",
    "#numerics.nny= 41\n",
    "#matrix type\n",
    "numerics.numericalFluxType = NumericalFlux.StrongDirichletFactory(physics.fluxBoundaryConditions)\n",
    "#numerics.numericalFluxType = MixedDarcy_exterior\n",
    "#numerics.numericalFluxType = NumericalFlux.Advection_DiagonalUpwind_Diffusion_IIPG_exterior\n",
    "#numerics.numericalFluxType = NumericalFlux.Advection_Diagonal_average\n",
    "numerics.matrix = LinearAlgebraTools.SparseMatrix\n",
    "#use petsc solvers wrapped by petsc4py\n",
    "#numerics.multilevelLinearSolver = LinearSolvers.KSP_petsc4py\n",
    "#numerics.levelLinearSolver = LinearSolvers.KSP_petsc4py\n",
    "#using petsc4py requires weak boundary condition enforcement\n",
    "#can also use our internal wrapper for SuperLU\n",
    "numerics.multilevelLinearSolver = LinearSolvers.LU\n",
    "numerics.levelLinearSolver = LinearSolvers.LU\n",
    "\n",
    "#linear solve rtolerance\n",
    "numerics.l_atol_res = 1.0e-8\n",
    "numerics.nl_atol_res = 1.0e-4\n",
    "numerics.periodicDirichletConditions=None\n",
    "#\n",
    "# split operator options (trivial since we're not splitting)\n",
    "#\n",
    "so = default_so\n",
    "so.name = physics.name\n",
    "so.sList=[default_s]\n",
    "so.tnList = [0,1]"
   ]
  },
  {
   "cell_type": "markdown",
   "metadata": {},
   "source": [
    "Construct a NumericalSolution object and solve the problem"
   ]
  },
  {
   "cell_type": "code",
   "execution_count": 19,
   "metadata": {
    "collapsed": false
   },
   "outputs": [
    {
     "name": "stdout",
     "output_type": "stream",
     "text": [
      "[    1786] Initializing NumericalSolution for stokes_1d\n",
      " System includes: \n",
      "stokes_1d\n",
      "\n",
      "[    1786] Setting Archiver(s)\n",
      "[    1786] Setting up MultilevelMesh\n",
      "[    1786] Building one multilevel mesh for all models\n",
      "[    1786] Generating mesh for stokes_1d\n",
      "[    1786] Partitioning mesh among 1 processors using partitioningType = 0\n",
      "[    1786] Number of Subdomain Elements Owned= 40\n",
      "[    1786] Number of Subdomain Elements = 40\n",
      "[    1786] Number of Subdomain Nodes Owned= 41\n",
      "[    1786] Number of Subdomain Nodes = 41\n",
      "[    1786] Number of Subdomain elementBoundaries Owned= 41\n",
      "[    1786] Number of Subdomain elementBoundaries = 41\n",
      "[    1786] Number of Subdomain Edges Owned= 40\n",
      "[    1786] Number of Subdomain Edges = 40\n",
      "[    1786] Finished partitioning\n",
      "[    1786] *** Global ***\n",
      "Number of edges : 40\n",
      "Number of nodes : 41\n",
      "\n",
      "*** Local ***\n",
      "Number of edges : 40\n",
      "Number of nodes : 41\n",
      "\n",
      "[    1786] Numerical Solution Sparse diffusion information key (1, 1) = (array([0, 1], dtype=int32), array([0], dtype=int32))\n",
      "[    1786] Setting up MultilevelTransport for stokes_1d\n",
      "[    1786] Building Transport for each mesh\n",
      "[    1786] Generating Trial Space\n",
      "[    1786] Generating Test Space\n",
      "[    1786] Allocating u\n",
      "[    1786] Allocating phi\n",
      "[    1786] Setting Boundary Conditions\n",
      "[    1786] Setting Boundary Conditions-1\n",
      "[    1786] Setting Boundary Conditions-2\n",
      "[    1786] Setting Boundary Conditions-2a\n",
      "[    1786] Setting Boundary Conditions-3\n",
      "[    1786] Setting Boundary Conditions-4\n",
      "[    1786] Initializing OneLevelTransport\n",
      "[    1786] Sparse diffusion information key (1, 1) = (array([0, 1], dtype=int32), array([0], dtype=int32))\n",
      "[    1786] Updating local to global mappings\n",
      "[    1786] Building time integration object\n",
      "[    1786] Calculating numerical quadrature formulas\n"
     ]
    },
    {
     "ename": "KeyError",
     "evalue": "0",
     "output_type": "error",
     "traceback": [
      "\u001b[0;31m---------------------------------------------------------------------------\u001b[0m",
      "\u001b[0;31mKeyError\u001b[0m                                  Traceback (most recent call last)",
      "\u001b[0;32m<ipython-input-19-11d687ac91e9>\u001b[0m in \u001b[0;36m<module>\u001b[0;34m()\u001b[0m\n\u001b[0;32m----> 1\u001b[0;31m \u001b[0mns\u001b[0m \u001b[0;34m=\u001b[0m \u001b[0mNumericalSolution\u001b[0m\u001b[0;34m.\u001b[0m\u001b[0mNS_base\u001b[0m\u001b[0;34m(\u001b[0m\u001b[0mso\u001b[0m\u001b[0;34m,\u001b[0m\u001b[0;34m[\u001b[0m\u001b[0mphysics\u001b[0m\u001b[0;34m]\u001b[0m\u001b[0;34m,\u001b[0m\u001b[0;34m[\u001b[0m\u001b[0mnumerics\u001b[0m\u001b[0;34m]\u001b[0m\u001b[0;34m,\u001b[0m\u001b[0mso\u001b[0m\u001b[0;34m.\u001b[0m\u001b[0msList\u001b[0m\u001b[0;34m,\u001b[0m\u001b[0mopts\u001b[0m\u001b[0;34m)\u001b[0m\u001b[0;34m\u001b[0m\u001b[0m\n\u001b[0m\u001b[1;32m      2\u001b[0m \u001b[0mns\u001b[0m\u001b[0;34m.\u001b[0m\u001b[0mcalculateSolution\u001b[0m\u001b[0;34m(\u001b[0m\u001b[0;34m'run1'\u001b[0m\u001b[0;34m)\u001b[0m\u001b[0;34m\u001b[0m\u001b[0m\n\u001b[1;32m      3\u001b[0m \u001b[0;31m#arrays for using matplotlib's unstructured plotting interface\u001b[0m\u001b[0;34m\u001b[0m\u001b[0;34m\u001b[0m\u001b[0m\n\u001b[1;32m      4\u001b[0m \u001b[0mx\u001b[0m \u001b[0;34m=\u001b[0m \u001b[0mns\u001b[0m\u001b[0;34m.\u001b[0m\u001b[0mmodelList\u001b[0m\u001b[0;34m[\u001b[0m\u001b[0;36m0\u001b[0m\u001b[0;34m]\u001b[0m\u001b[0;34m.\u001b[0m\u001b[0mlevelModelList\u001b[0m\u001b[0;34m[\u001b[0m\u001b[0;34m-\u001b[0m\u001b[0;36m1\u001b[0m\u001b[0;34m]\u001b[0m\u001b[0;34m.\u001b[0m\u001b[0mmesh\u001b[0m\u001b[0;34m.\u001b[0m\u001b[0mnodeArray\u001b[0m\u001b[0;34m[\u001b[0m\u001b[0;34m:\u001b[0m\u001b[0;34m,\u001b[0m\u001b[0;36m0\u001b[0m\u001b[0;34m]\u001b[0m\u001b[0;34m\u001b[0m\u001b[0m\n\u001b[1;32m      5\u001b[0m \u001b[0;31m#y = ns.modelList[0].levelModelList[-1].mesh.nodeArray[:,1]\u001b[0m\u001b[0;34m\u001b[0m\u001b[0;34m\u001b[0m\u001b[0m\n",
      "\u001b[0;32m/Users/srobertp/software/proteus/darwin/lib/python2.7/site-packages/proteus/NumericalSolution.pyc\u001b[0m in \u001b[0;36m__init__\u001b[0;34m(self, so, pList, nList, sList, opts, simFlagsList)\u001b[0m\n\u001b[1;32m    374\u001b[0m             \u001b[0mlog\u001b[0m\u001b[0;34m(\u001b[0m\u001b[0;34m\"Setting up MultilevelTransport for \"\u001b[0m\u001b[0;34m+\u001b[0m\u001b[0mp\u001b[0m\u001b[0;34m.\u001b[0m\u001b[0mname\u001b[0m\u001b[0;34m)\u001b[0m\u001b[0;34m\u001b[0m\u001b[0m\n\u001b[1;32m    375\u001b[0m \u001b[0;34m\u001b[0m\u001b[0m\n\u001b[0;32m--> 376\u001b[0;31m             \u001b[0mmodel\u001b[0m \u001b[0;34m=\u001b[0m \u001b[0mTransport\u001b[0m\u001b[0;34m.\u001b[0m\u001b[0mMultilevelTransport\u001b[0m\u001b[0;34m(\u001b[0m\u001b[0mp\u001b[0m\u001b[0;34m,\u001b[0m\u001b[0mn\u001b[0m\u001b[0;34m,\u001b[0m\u001b[0mmlMesh\u001b[0m\u001b[0;34m,\u001b[0m\u001b[0mOneLevelTransportType\u001b[0m\u001b[0;34m=\u001b[0m\u001b[0mp\u001b[0m\u001b[0;34m.\u001b[0m\u001b[0mLevelModelType\u001b[0m\u001b[0;34m)\u001b[0m\u001b[0;34m\u001b[0m\u001b[0m\n\u001b[0m\u001b[1;32m    377\u001b[0m             \u001b[0mself\u001b[0m\u001b[0;34m.\u001b[0m\u001b[0mmodelList\u001b[0m\u001b[0;34m.\u001b[0m\u001b[0mappend\u001b[0m\u001b[0;34m(\u001b[0m\u001b[0mmodel\u001b[0m\u001b[0;34m)\u001b[0m\u001b[0;34m\u001b[0m\u001b[0m\n\u001b[1;32m    378\u001b[0m             \u001b[0mmodel\u001b[0m\u001b[0;34m.\u001b[0m\u001b[0mname\u001b[0m \u001b[0;34m=\u001b[0m \u001b[0mp\u001b[0m\u001b[0;34m.\u001b[0m\u001b[0mname\u001b[0m\u001b[0;34m\u001b[0m\u001b[0m\n",
      "\u001b[0;32m/Users/srobertp/software/proteus/darwin/lib/python2.7/site-packages/proteus/Transport.pyc\u001b[0m in \u001b[0;36m__init__\u001b[0;34m(self, problem, numerics, mlMesh, OneLevelTransportType)\u001b[0m\n\u001b[1;32m   5845\u001b[0m             \u001b[0mproblem\u001b[0m\u001b[0;34m.\u001b[0m\u001b[0msd\u001b[0m\u001b[0;34m,\u001b[0m\u001b[0;34m\u001b[0m\u001b[0m\n\u001b[1;32m   5846\u001b[0m             \u001b[0mproblem\u001b[0m\u001b[0;34m.\u001b[0m\u001b[0mmovingDomain\u001b[0m\u001b[0;34m,\u001b[0m\u001b[0;34m\u001b[0m\u001b[0m\n\u001b[0;32m-> 5847\u001b[0;31m             PhiSpaceTypeDict=phiSpaces)\n\u001b[0m\u001b[1;32m   5848\u001b[0m     def initialize(self,\n\u001b[1;32m   5849\u001b[0m                    \u001b[0mnd\u001b[0m\u001b[0;34m,\u001b[0m\u001b[0;34m\u001b[0m\u001b[0m\n",
      "\u001b[0;32m/Users/srobertp/software/proteus/darwin/lib/python2.7/site-packages/proteus/Transport.pyc\u001b[0m in \u001b[0;36minitialize\u001b[0;34m(self, nd, mlMesh, TrialSpaceTypeDict, TestSpaceTypeDict, matType, dirichletConditionsSetterDict, coefficients, quadratureDict, elementBoundaryQuadratureDict, fluxBoundaryConditionsDict, advectiveFluxBoundaryConditionsSetterDict, diffusiveFluxBoundaryConditionsSetterDictDict, stressFluxBoundaryConditionsSetterDict, stabilization, shockCapturing, conservativeFlux, numericalFluxType, TimeIntegrationClass, massLumping, reactionLumping, weakDirichletConditions, options, useSparseDiffusion, movingDomain, PhiSpaceTypeDict)\u001b[0m\n\u001b[1;32m   6063\u001b[0m                                             \u001b[0mself\u001b[0m\u001b[0;34m.\u001b[0m\u001b[0mname\u001b[0m \u001b[0;34m+\u001b[0m \u001b[0mstr\u001b[0m\u001b[0;34m(\u001b[0m\u001b[0mlen\u001b[0m\u001b[0;34m(\u001b[0m\u001b[0mself\u001b[0m\u001b[0;34m.\u001b[0m\u001b[0mlevelModelList\u001b[0m\u001b[0;34m)\u001b[0m\u001b[0;34m)\u001b[0m\u001b[0;34m,\u001b[0m\u001b[0;34m\u001b[0m\u001b[0m\n\u001b[1;32m   6064\u001b[0m                                             \u001b[0msd\u001b[0m \u001b[0;34m=\u001b[0m \u001b[0museSparseDiffusion\u001b[0m\u001b[0;34m,\u001b[0m\u001b[0;34m\u001b[0m\u001b[0m\n\u001b[0;32m-> 6065\u001b[0;31m                                             movingDomain=movingDomain)\n\u001b[0m\u001b[1;32m   6066\u001b[0m             \u001b[0mself\u001b[0m\u001b[0;34m.\u001b[0m\u001b[0moffsetListList\u001b[0m\u001b[0;34m.\u001b[0m\u001b[0mappend\u001b[0m\u001b[0;34m(\u001b[0m\u001b[0mtransport\u001b[0m\u001b[0;34m.\u001b[0m\u001b[0moffset\u001b[0m\u001b[0;34m)\u001b[0m\u001b[0;34m\u001b[0m\u001b[0m\n\u001b[1;32m   6067\u001b[0m             \u001b[0mself\u001b[0m\u001b[0;34m.\u001b[0m\u001b[0mstrideListList\u001b[0m\u001b[0;34m.\u001b[0m\u001b[0mappend\u001b[0m\u001b[0;34m(\u001b[0m\u001b[0mtransport\u001b[0m\u001b[0;34m.\u001b[0m\u001b[0mstride\u001b[0m\u001b[0;34m)\u001b[0m\u001b[0;34m\u001b[0m\u001b[0m\n",
      "\u001b[0;32m/Users/srobertp/software/proteus/darwin/lib/python2.7/site-packages/proteus/Transport.pyc\u001b[0m in \u001b[0;36m__init__\u001b[0;34m(self, uDict, phiDict, testSpaceDict, matType, dofBoundaryConditionsDict, dofBoundaryConditionsSetterDict, coefficients, elementQuadrature, elementBoundaryQuadrature, fluxBoundaryConditionsDict, advectiveFluxBoundaryConditionsSetterDict, diffusiveFluxBoundaryConditionsSetterDictDict, stressFluxBoundaryConditionsSetterDict, stabilization, shockCapturing, conservativeFluxDict, numericalFluxType, TimeIntegrationClass, massLumping, reactionLumping, options, name, reuse_trial_and_test_quadrature, sd, movingDomain)\u001b[0m\n\u001b[1;32m   1494\u001b[0m         \u001b[0mlog\u001b[0m\u001b[0;34m(\u001b[0m\u001b[0mmemory\u001b[0m\u001b[0;34m(\u001b[0m\u001b[0;34m\"TimeIntegration\"\u001b[0m\u001b[0;34m,\u001b[0m\u001b[0;34m\"OneLevelTransport\"\u001b[0m\u001b[0;34m)\u001b[0m\u001b[0;34m,\u001b[0m\u001b[0mlevel\u001b[0m\u001b[0;34m=\u001b[0m\u001b[0;36m4\u001b[0m\u001b[0;34m)\u001b[0m\u001b[0;34m\u001b[0m\u001b[0m\n\u001b[1;32m   1495\u001b[0m         \u001b[0mlog\u001b[0m\u001b[0;34m(\u001b[0m\u001b[0;34m\"Calculating numerical quadrature formulas\"\u001b[0m\u001b[0;34m,\u001b[0m\u001b[0;36m2\u001b[0m\u001b[0;34m)\u001b[0m\u001b[0;34m\u001b[0m\u001b[0m\n\u001b[0;32m-> 1496\u001b[0;31m         \u001b[0mself\u001b[0m\u001b[0;34m.\u001b[0m\u001b[0mcalculateQuadrature\u001b[0m\u001b[0;34m(\u001b[0m\u001b[0;34m)\u001b[0m\u001b[0;34m\u001b[0m\u001b[0m\n\u001b[0m\u001b[1;32m   1497\u001b[0m \u001b[0;34m\u001b[0m\u001b[0m\n\u001b[1;32m   1498\u001b[0m         \u001b[0mcomm\u001b[0m \u001b[0;34m=\u001b[0m \u001b[0mComm\u001b[0m\u001b[0;34m.\u001b[0m\u001b[0mget\u001b[0m\u001b[0;34m(\u001b[0m\u001b[0;34m)\u001b[0m\u001b[0;34m\u001b[0m\u001b[0m\n",
      "\u001b[0;32m/Users/srobertp/software/proteus/darwin/lib/python2.7/site-packages/proteus/Transport.pyc\u001b[0m in \u001b[0;36mcalculateQuadrature\u001b[0;34m(self)\u001b[0m\n\u001b[1;32m   3547\u001b[0m         \u001b[0mself\u001b[0m\u001b[0;34m.\u001b[0m\u001b[0mcalculateElementBoundaryQuadrature\u001b[0m\u001b[0;34m(\u001b[0m\u001b[0;34m)\u001b[0m\u001b[0;34m\u001b[0m\u001b[0m\n\u001b[1;32m   3548\u001b[0m         \u001b[0mlog\u001b[0m\u001b[0;34m(\u001b[0m\u001b[0;34m\"Global Exterior Element Boundary Quadrature\"\u001b[0m\u001b[0;34m,\u001b[0m\u001b[0mlevel\u001b[0m\u001b[0;34m=\u001b[0m\u001b[0;36m3\u001b[0m\u001b[0;34m)\u001b[0m\u001b[0;34m\u001b[0m\u001b[0m\n\u001b[0;32m-> 3549\u001b[0;31m         \u001b[0mself\u001b[0m\u001b[0;34m.\u001b[0m\u001b[0mcalculateExteriorElementBoundaryQuadrature\u001b[0m\u001b[0;34m(\u001b[0m\u001b[0;34m)\u001b[0m\u001b[0;34m\u001b[0m\u001b[0m\n\u001b[0m\u001b[1;32m   3550\u001b[0m     \u001b[0;32mdef\u001b[0m \u001b[0mupdateAfterMeshMotion\u001b[0m\u001b[0;34m(\u001b[0m\u001b[0mself\u001b[0m\u001b[0;34m)\u001b[0m\u001b[0;34m:\u001b[0m\u001b[0;34m\u001b[0m\u001b[0m\n\u001b[1;32m   3551\u001b[0m         \u001b[0mself\u001b[0m\u001b[0;34m.\u001b[0m\u001b[0mcalculateQuadrature\u001b[0m\u001b[0;34m(\u001b[0m\u001b[0;34m)\u001b[0m\u001b[0;31m#not always the right thing to do (e.g. for optimized models)\u001b[0m\u001b[0;34m\u001b[0m\u001b[0m\n",
      "\u001b[0;32m/Users/srobertp/software/proteus/darwin/lib/python2.7/site-packages/proteus/Transport.pyc\u001b[0m in \u001b[0;36mcalculateExteriorElementBoundaryQuadrature\u001b[0;34m(self)\u001b[0m\n\u001b[1;32m   4101\u001b[0m                                                                                   \u001b[0mself\u001b[0m\u001b[0;34m.\u001b[0m\u001b[0madvectiveFluxBoundaryConditionsSetterDict\u001b[0m\u001b[0;34m[\u001b[0m\u001b[0mcj\u001b[0m\u001b[0;34m]\u001b[0m\u001b[0;34m,\u001b[0m\u001b[0;34m\u001b[0m\u001b[0m\n\u001b[1;32m   4102\u001b[0m                                                                                   self.diffusiveFluxBoundaryConditionsSetterDictDict[cj]))\n\u001b[0;32m-> 4103\u001b[0;31m                                                        for cj in self.advectiveFluxBoundaryConditionsSetterDict.keys()])\n\u001b[0m\u001b[1;32m   4104\u001b[0m         self.stressFluxBoundaryConditionsObjectsDict = dict([(cj,FluxBoundaryConditions(self.mesh,\n\u001b[1;32m   4105\u001b[0m                                                                                         \u001b[0mself\u001b[0m\u001b[0;34m.\u001b[0m\u001b[0mnElementBoundaryQuadraturePoints_elementBoundary\u001b[0m\u001b[0;34m,\u001b[0m\u001b[0;34m\u001b[0m\u001b[0m\n",
      "\u001b[0;31mKeyError\u001b[0m: 0"
     ]
    }
   ],
   "source": [
    "ns = NumericalSolution.NS_base(so,[physics],[numerics],so.sList,opts)\n",
    "ns.calculateSolution('run1')\n",
    "#arrays for using matplotlib's unstructured plotting interface\n",
    "x = ns.modelList[0].levelModelList[-1].mesh.nodeArray[:,0]\n",
    "#y = ns.modelList[0].levelModelList[-1].mesh.nodeArray[:,1]\n",
    "#triangles = ns.modelList[0].levelModelList[-1].mesh.elementNodesArray\n",
    "p = ns.modelList[0].levelModelList[-1].u[0].dof\n",
    "v = ns.modelList[0].levelModelList[-1].u[1].dof"
   ]
  },
  {
   "cell_type": "markdown",
   "metadata": {},
   "source": [
    "Plot the solution with matplotlib. Only works for $C^0 P^1$ right now"
   ]
  },
  {
   "cell_type": "code",
   "execution_count": null,
   "metadata": {
    "collapsed": false,
    "scrolled": true
   },
   "outputs": [],
   "source": [
    "%pylab inline"
   ]
  },
  {
   "cell_type": "code",
   "execution_count": null,
   "metadata": {
    "collapsed": false
   },
   "outputs": [],
   "source": [
    "import matplotlib.pyplot as plt\n",
    "fig, (ax1,ax2) = plt.subplots(2,1)\n",
    "ax1.plot(x,p)\n",
    "useTH=True\n",
    "if not useTH:\n",
    "    ax2.plot(x,v[:numerics.nn])\n",
    "else:\n",
    "    xm = np.array(0.5*(x[:-1]+x[1:]))\n",
    "    xq=[];\n",
    "    vq=[];\n",
    "    pq=[];\n",
    "    for i in range(numerics.nn-1):\n",
    "        xq.append(x[i])\n",
    "        vq.append(v[i])\n",
    "#    uq.append(u[i])\n",
    "        xq.append(xm[i])\n",
    "        vq.append(v[numerics.nn+i])\n",
    "#    uq.append(u[numerics.nn+i])\n",
    "    xq.append(x[-1])\n",
    "    vq.append(v[-1])\n",
    "#uq.append(u[-1])\n",
    "#xq = np.concatenate([x,xm])\n",
    "#xq.append(x1[-1])\n",
    "#ax1.plot(xq,uq)\n",
    "    ax2.plot(xq,vq)"
   ]
  },
  {
   "cell_type": "code",
   "execution_count": null,
   "metadata": {
    "collapsed": false
   },
   "outputs": [],
   "source": [
    "pex0(x) - p"
   ]
  },
  {
   "cell_type": "markdown",
   "metadata": {},
   "source": [
    "Compare to the exact solution, evaluated at the degrees of freedom. Again, only works for $C^0 P^1$ elements"
   ]
  },
  {
   "cell_type": "code",
   "execution_count": null,
   "metadata": {
    "collapsed": false
   },
   "outputs": [],
   "source": [
    "import numpy as np\n",
    "pex_vals = pex0(ns.modelList[0].levelModelList[-1].mesh.nodeArray)\n",
    "vex_vals = vex0(ns.modelList[0].levelModelList[-1].mesh.nodeArray)\n",
    "rex_vals = rofx0(ns.modelList[0].levelModelList[-1].mesh.nodeArray)"
   ]
  },
  {
   "cell_type": "code",
   "execution_count": null,
   "metadata": {
    "collapsed": false
   },
   "outputs": [],
   "source": [
    "fig, (ax1,ax2,ax3) = plt.subplots(3,1)\n",
    "ax1.plot(x,pex_vals)\n",
    "ax1.set_xlabel('x')\n",
    "ax1.set_ylabel('u exact') \n",
    "ax2.plot(x,vex_vals)\n",
    "ax2.set_xlabel('x')\n",
    "ax2.set_ylabel('v exact')\n",
    "ax3.plot(x,rex_vals)\n",
    "ax3.set_xlabel('x')\n",
    "ax3.set_ylabel('r exact')"
   ]
  },
  {
   "cell_type": "code",
   "execution_count": null,
   "metadata": {
    "collapsed": false
   },
   "outputs": [],
   "source": [
    "err_p = p-pex_vals\n",
    "err_p *= err_p\n",
    "err_p *= physics.L[0]*physics.L[1]/(numerics.nn)\n",
    "L2approx_p = np.sqrt(err_p.sum())\n",
    "print x.shape,xm.shape\n",
    "err_v = v-vex0(np.concatenate((x,xm)))\n",
    "plt.plot(err_v)\n",
    "err_v *= err_v\n",
    "err_v *= physics.L[0]*physics.L[1]/(numerics.nn)\n",
    "L2approx_v = np.sqrt(err_v.sum())\n",
    "print \"Trapezoidal rule approx for error at dofs for nx=%s ny=%s is %s \" % (numerics.nn,L2approx_p,L2approx_v)"
   ]
  }
 ],
 "metadata": {
  "kernelspec": {
   "display_name": "Python 2",
   "language": "python",
   "name": "python2"
  },
  "language_info": {
   "codemirror_mode": {
    "name": "ipython",
    "version": 2
   },
   "file_extension": ".py",
   "mimetype": "text/x-python",
   "name": "python",
   "nbconvert_exporter": "python",
   "pygments_lexer": "ipython2",
   "version": "2.7.9"
  }
 },
 "nbformat": 4,
 "nbformat_minor": 0
}
